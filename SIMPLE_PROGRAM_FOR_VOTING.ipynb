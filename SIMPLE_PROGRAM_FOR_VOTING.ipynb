{
  "nbformat": 4,
  "nbformat_minor": 0,
  "metadata": {
    "colab": {
      "provenance": [],
      "authorship_tag": "ABX9TyOkd0fpo+NpitS6njDDLM5F",
      "include_colab_link": true
    },
    "kernelspec": {
      "name": "python3",
      "display_name": "Python 3"
    },
    "language_info": {
      "name": "python"
    }
  },
  "cells": [
    {
      "cell_type": "markdown",
      "metadata": {
        "id": "view-in-github",
        "colab_type": "text"
      },
      "source": [
        "<a href=\"https://colab.research.google.com/github/muthu173cyber/Python-Projects/blob/main/SIMPLE_PROGRAM_FOR_VOTING.ipynb\" target=\"_parent\"><img src=\"https://colab.research.google.com/assets/colab-badge.svg\" alt=\"Open In Colab\"/></a>"
      ]
    },
    {
      "cell_type": "code",
      "execution_count": 8,
      "metadata": {
        "colab": {
          "base_uri": "https://localhost:8080/"
        },
        "id": "voKHVbfmjwPM",
        "outputId": "cc685538-0ea0-4ba5-cad5-830a5fd51355"
      },
      "outputs": [
        {
          "output_type": "stream",
          "name": "stdout",
          "text": [
            "Enter your Name:\n",
            "swami\n",
            "Enter your Age:\n",
            "17\n",
            "swami is not eligible to vote.\n"
          ]
        }
      ],
      "source": [
        "#USING IF ELSE CREATE A CODE TO SELECT ELIGIBLE CANDIDATE\n",
        "\n",
        "print(\"Enter your Name:\")\n",
        "name = input()\n",
        "print(\"Enter your Age:\")\n",
        "age = int(input())\n",
        "if(age>=18):\n",
        " print(name,'is eligible to vote.')\n",
        "else:\n",
        "    print(name,'is not eligible to vote.')\n"
      ]
    },
    {
      "cell_type": "code",
      "source": [
        "def muthu():\n",
        " print('hi')\n",
        "muthu()"
      ],
      "metadata": {
        "colab": {
          "base_uri": "https://localhost:8080/"
        },
        "id": "Hih-eIwikwrj",
        "outputId": "90ab0b84-6a01-4211-8eab-77a00a655e97"
      },
      "execution_count": 13,
      "outputs": [
        {
          "output_type": "stream",
          "name": "stdout",
          "text": [
            "hi\n"
          ]
        }
      ]
    },
    {
      "cell_type": "code",
      "source": [
        "x=20; borrowed =\"manoj\"\n",
        "print(\"i just get %s from %s\"%(x,borrowed))"
      ],
      "metadata": {
        "colab": {
          "base_uri": "https://localhost:8080/"
        },
        "id": "W9QH0sSTmOWN",
        "outputId": "f6e9afa7-fea3-4837-c6b8-4010cd9bb8f5"
      },
      "execution_count": 16,
      "outputs": [
        {
          "output_type": "stream",
          "name": "stdout",
          "text": [
            "i just get 20 from manoj\n"
          ]
        }
      ]
    },
    {
      "cell_type": "code",
      "source": [],
      "metadata": {
        "id": "bkNit9IYpJXO"
      },
      "execution_count": null,
      "outputs": []
    }
  ]
}